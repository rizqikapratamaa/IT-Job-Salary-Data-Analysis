{
 "cells": [
  {
   "cell_type": "code",
   "execution_count": 2,
   "metadata": {},
   "outputs": [],
   "source": [
    "import pandas as pd\n",
    "import matplotlib.pyplot as plt\n",
    "df = pd.read_csv(\"IT Job Salaries.csv\")"
   ]
  },
  {
   "cell_type": "code",
   "execution_count": null,
   "metadata": {},
   "outputs": [],
   "source": [
    "# Ukuran data\n",
    "print(\"Ukuran baris dan kolom dari data IT Job Salaries adalah: \", end=\"\")\n",
    "print(f\"{str(len(df))} baris x {str(len(df.columns))} kolom\")"
   ]
  },
  {
   "cell_type": "code",
   "execution_count": null,
   "metadata": {},
   "outputs": [],
   "source": [
    "# 5 data pertama\n",
    "df.head()"
   ]
  },
  {
   "cell_type": "code",
   "execution_count": null,
   "metadata": {},
   "outputs": [],
   "source": [
    "# 5 data terakhir\n",
    "df.tail()"
   ]
  },
  {
   "cell_type": "code",
   "execution_count": null,
   "metadata": {},
   "outputs": [],
   "source": [
    "# Menampilkan statistik data untuk salary\n",
    "salary = df[\"salary\"]\n",
    "mean = salary.mean()\n",
    "max = salary.max()\n",
    "min = salary.min()\n",
    "standard_dev = salary.std()\n",
    "perc_10 = salary.quantile(0.1)\n",
    "perc_25 = salary.quantile(0.25)\n",
    "perc_50 = salary.quantile(0.5)\n",
    "perc_75 = salary.quantile(0.75)\n",
    "perc_90 = salary.quantile(0.9)\n",
    "print(f\"\"\"\n",
    "Rata-rata: {mean}\n",
    "Nilai tertinggi: {max}\n",
    "Nilai terendah: {min} \n",
    "Standar Deviasi: {standard_dev}\n",
    "Persentil 10%: {perc_10} \n",
    "Persentil 25%: {perc_25}\n",
    "Persentil 50%: {perc_50}\n",
    "Persentil 75%: {perc_75}\n",
    "Persentil 90%: {perc_90}\n",
    "\"\"\")"
   ]
  },
  {
   "cell_type": "code",
   "execution_count": null,
   "metadata": {},
   "outputs": [],
   "source": [
    "# Menampilkan statistik data untuk salary di dalam Dolar Amerika\n",
    "salary_usd = df[\"salary_in_usd\"]\n",
    "mean = salary_usd.mean()\n",
    "max = salary_usd.max()\n",
    "min = salary_usd.min()\n",
    "standard_dev = salary_usd.std()\n",
    "perc_10 = salary_usd.quantile(0.1)\n",
    "perc_25 = salary_usd.quantile(0.25)\n",
    "perc_50 = salary_usd.quantile(0.5)\n",
    "perc_75 = salary_usd.quantile(0.75)\n",
    "perc_90 = salary_usd.quantile(0.9)\n",
    "print(f\"\"\"\n",
    "Rata-rata: {mean}\n",
    "Nilai tertinggi: {max}\n",
    "Nilai terendah: {min} \n",
    "Standar Deviasi: {standard_dev}\n",
    "Persentil 10%: {perc_10} \n",
    "Persentil 25%: {perc_25}\n",
    "Persentil 50%: {perc_50}\n",
    "Persentil 75%: {perc_75}\n",
    "Persentil 90%: {perc_90}\n",
    "\"\"\")"
   ]
  },
  {
   "cell_type": "code",
   "execution_count": null,
   "metadata": {},
   "outputs": [],
   "source": [
    "# Menampilkan nilai rata-rata gaji, gaji tertinggi, dan gaji terendah di tahun 2020 dalam Dolar Amerika\n",
    "salary = df[df[\"work_year\"] == 2020][\"salary_in_usd\"]\n",
    "mean = salary.mean()\n",
    "max = salary.max()\n",
    "min = salary.min()\n",
    "print(f\"\"\"\n",
    "Rata-rata Gaji Tahun 2020: {mean}\n",
    "Gaji tertinggi Tahun 2020: {max}\n",
    "Gaji terendah Tahun 2020: {min}\n",
    "\"\"\")"
   ]
  },
  {
   "cell_type": "code",
   "execution_count": null,
   "metadata": {},
   "outputs": [],
   "source": [
    "# Menampilkan nilai rata-rata gaji, gaji tertinggi, dan gaji terendah di tahun 2021 dalam Dolar Amerika\n",
    "salary = df[df[\"work_year\"] == 2021][\"salary_in_usd\"]\n",
    "mean = salary.mean()\n",
    "max = salary.max()\n",
    "min = salary.min()\n",
    "print(f\"\"\"\n",
    "Rata-rata Gaji Tahun 2020: {mean}\n",
    "Gaji tertinggi Tahun 2020: {max}\n",
    "Gaji terendah Tahun 2020: {min}\n",
    "\"\"\")"
   ]
  },
  {
   "cell_type": "code",
   "execution_count": null,
   "metadata": {},
   "outputs": [],
   "source": [
    "# Menampilkan nilai rata-rata gaji, gaji tertinggi, dan gaji terendah di tahun 2022 dalam Dolar Amerika\n",
    "salary = df[df[\"work_year\"] == 2022][\"salary_in_usd\"]\n",
    "mean = salary.mean()\n",
    "max = salary.max()\n",
    "min = salary.min()\n",
    "print(f\"\"\"\n",
    "Rata-rata Gaji Tahun 2020: {mean}\n",
    "Gaji tertinggi Tahun 2020: {max}\n",
    "Gaji terendah Tahun 2020: {min}\n",
    "\"\"\")"
   ]
  },
  {
   "cell_type": "code",
   "execution_count": null,
   "metadata": {},
   "outputs": [],
   "source": [
    "# Rata-rata gaji tiap experience level dalam Dolar Amerika\n",
    "df[\"experience_level\"] = df[\"experience_level\"].replace([\"EN\", \"EX\", \"MI\", \"SE\"],[\"Junior\", \"Intermediate\", \"Expert\", \"Director\"])\n",
    "salary = df.groupby(\"experience_level\")[\"salary_in_usd\"].mean()\n",
    "print(salary)"
   ]
  },
  {
   "cell_type": "code",
   "execution_count": null,
   "metadata": {},
   "outputs": [],
   "source": [
    "# Rata-rata gaji berdasarkan rasio remote\n",
    "df[\"remote_ratio\"] = df[\"remote_ratio\"].replace([0, 50, 100],[\"No remote work\", \"Partially remote\", \"Fully remote\"])\n",
    "salary = df.groupby(\"remote_ratio\")[\"salary_in_usd\"].mean()\n",
    "print(salary)"
   ]
  },
  {
   "cell_type": "code",
   "execution_count": null,
   "metadata": {},
   "outputs": [],
   "source": [
    "# Data dengan gaji terbesar\n",
    "df.nlargest(1, \"salary_in_usd\")"
   ]
  }
 ],
 "metadata": {
  "kernelspec": {
   "display_name": "Python 3.10.8 64-bit",
   "language": "python",
   "name": "python3"
  },
  "language_info": {
   "codemirror_mode": {
    "name": "ipython",
    "version": 3
   },
   "file_extension": ".py",
   "mimetype": "text/x-python",
   "name": "python",
   "nbconvert_exporter": "python",
   "pygments_lexer": "ipython3",
   "version": "3.10.8"
  },
  "orig_nbformat": 4,
  "vscode": {
   "interpreter": {
    "hash": "bf5a81612b998b0441390e9f83d2a2f4390f639f676cb0b9b2f6760d03d2655d"
   }
  }
 },
 "nbformat": 4,
 "nbformat_minor": 2
}
