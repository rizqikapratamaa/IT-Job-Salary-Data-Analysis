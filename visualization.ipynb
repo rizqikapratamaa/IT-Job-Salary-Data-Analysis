{
 "cells": [
  {
   "cell_type": "code",
   "execution_count": 22,
   "metadata": {},
   "outputs": [],
   "source": [
    "import pandas as pd\n",
    "import matplotlib.pyplot as plt\n",
    "df = pd.read_csv(\"IT Job Salaries.csv\")"
   ]
  },
  {
   "cell_type": "code",
   "execution_count": null,
   "metadata": {},
   "outputs": [],
   "source": [
    "# Bar chart rata-rata gaji berdasarkan tahun\n",
    "salary = df.groupby(\"work_year\")[\"salary_in_usd\"]\n",
    "mean = salary.mean()\n",
    "mean.plot(kind=\"bar\", title=\"Rata-rata gaji berdasarkan tahun\")"
   ]
  },
  {
   "cell_type": "code",
   "execution_count": null,
   "metadata": {},
   "outputs": [],
   "source": [
    "# Bar chart rata-rata gaji berdasarkan experience level\n",
    "salary = df.groupby(\"experience_level\")[\"salary_in_usd\"]\n",
    "mean = salary.mean()\n",
    "mean.plot(kind=\"bar\", title=\"Rata-rata gaji berdasarkan experience level\")"
   ]
  },
  {
   "cell_type": "code",
   "execution_count": null,
   "metadata": {},
   "outputs": [],
   "source": [
    "# Bar chart rata-rata gaji berdasarkan employment type\n",
    "salary = df.groupby(\"employment_type\")[\"salary_in_usd\"]\n",
    "mean = salary.mean()\n",
    "mean.plot(kind=\"bar\", title=\"Rata-rata gaji berdasarkan employment type\")"
   ]
  },
  {
   "cell_type": "code",
   "execution_count": null,
   "metadata": {},
   "outputs": [],
   "source": [
    "# Pie chart rata-rata gaji tiap tahun\n",
    "salary = df.groupby(\"work_year\")[\"salary_in_usd\"]\n",
    "mean = salary.mean()\n",
    "mean.plot(kind=\"pie\", title=\"Rata-rata gaji dari tahun ke tahun\")"
   ]
  },
  {
   "cell_type": "code",
   "execution_count": null,
   "metadata": {},
   "outputs": [],
   "source": [
    "# Line chart rata-rata gaji tiap tahun\n",
    "salary = df.groupby(\"work_year\")[\"salary_in_usd\"]\n",
    "mean = salary.mean()\n",
    "mean.plot(kind=\"line\", x=[\"work_year\"], y=[\"salary_in_usd\"], title=\"Kenaikan Rata-rata gaji dari tahun ke tahun\")\n",
    "plt.show()"
   ]
  },
  {
   "cell_type": "code",
   "execution_count": null,
   "metadata": {},
   "outputs": [],
   "source": [
    "# Histogram 15 negara dengan rata-rata gaji tertinggi\n",
    "salary = df.groupby(\"company_location\")[\"salary_in_usd\"]\n",
    "mean = salary.mean()\n",
    "mean = mean.sort_values(ascending=True)\n",
    "top15 = mean[:15]\n",
    "top15.plot(kind=\"barh\", title=\"15 Negara dengan rata-rata gaji tertinggi\")"
   ]
  },
  {
   "cell_type": "code",
   "execution_count": null,
   "metadata": {},
   "outputs": [],
   "source": [
    "# Histogram 15 pekerjaan dengan rata-rata gaji tertinggi\n",
    "salary = df.groupby(\"job_title\")[\"salary_in_usd\"]\n",
    "mean = salary.mean()\n",
    "mean = mean.sort_values(ascending=True)\n",
    "top15 = mean[:15]\n",
    "top15.plot(kind=\"barh\", title=\"15 Pekerjaan dengan rata-rata gaji tertinggi\")"
   ]
  },
  {
   "cell_type": "code",
   "execution_count": null,
   "metadata": {},
   "outputs": [],
   "source": [
    "# Korelasi gaji dan rasio remote\n",
    "print(df[\"salary_in_usd\"].corr(df[\"remote_ratio\"]))\n",
    "print(\"(Very Weak Positive)\")\n",
    "df[\"remote_ratio\"] = df[\"remote_ratio\"].replace([0, 50, 100],[\"No remote work\", \"Partially remote\", \"Fully remote\"])\n",
    "df.plot.scatter(x=\"remote_ratio\", y=\"salary_in_usd\", title=\"Korelasi pekerjaan remot dengan gaji\")"
   ]
  },
  {
   "cell_type": "code",
   "execution_count": null,
   "metadata": {},
   "outputs": [],
   "source": [
    "# Korelasi gaji dan ukuran perusahaan\n",
    "df[\"company_size\"] = df[\"company_size\"].replace([\"S\", \"M\", \"L\"],[0, 50, 100])\n",
    "print(df[\"salary_in_usd\"].corr(df[\"company_size\"]))\n",
    "print(\"(Very Weak Positive)\")\n",
    "df[\"company_size\"] = df[\"company_size\"].replace([0, 50, 100],[\"S\", \"M\", \"L\"])\n",
    "df.plot.scatter(x=\"company_size\", y=\"salary_in_usd\", title=\"Korelasi besar perusahaan dengan gaji\")"
   ]
  },
  {
   "cell_type": "code",
   "execution_count": null,
   "metadata": {},
   "outputs": [],
   "source": [
    "# Korelasi gaji dan experience level\n",
    "df[\"experience_level\"] = df[\"experience_level\"].replace([\"EN\", \"MI\", \"SE\", \"EX\"],[25, 50, 75, 100])\n",
    "print(df[\"salary_in_usd\"].corr(df[\"experience_level\"]))\n",
    "print(\"(Moderate Positive)\")\n",
    "df[\"experience_level\"] = df[\"experience_level\"].replace([25, 50, 75, 100],[\"Junior\", \"Intermediate\", \"Expert\", \"Director\"])\n",
    "df.plot.scatter(x=\"experience_level\", y=\"salary_in_usd\", title=\"Korelasi experience level dengan gaji\")"
   ]
  },
  {
   "cell_type": "code",
   "execution_count": null,
   "metadata": {},
   "outputs": [],
   "source": [
    "# Korelasi gaji dan employment type\n",
    "df[\"employment_type\"] = df[\"employment_type\"].replace([\"PT\", \"FT\", \"CT\", \"FL\"],[25, 50, 75, 100])\n",
    "print(df[\"salary_in_usd\"].corr(df[\"employment_type\"]))\n",
    "print(\"(Very Weak Positive)\")\n",
    "df[\"employment_type\"] = df[\"employment_type\"].replace([25, 50, 75, 100],[\"Part-time\", \"Full-time\", \"Contract\", \"Freelance\"])\n",
    "df.plot.scatter(x=\"employment_type\", y=\"salary_in_usd\", title=\"Korelasi employment type dengan gaji\")"
   ]
  }
 ],
 "metadata": {
  "kernelspec": {
   "display_name": "Python 3.10.8 64-bit",
   "language": "python",
   "name": "python3"
  },
  "language_info": {
   "codemirror_mode": {
    "name": "ipython",
    "version": 3
   },
   "file_extension": ".py",
   "mimetype": "text/x-python",
   "name": "python",
   "nbconvert_exporter": "python",
   "pygments_lexer": "ipython3",
   "version": "3.10.8"
  },
  "orig_nbformat": 4,
  "vscode": {
   "interpreter": {
    "hash": "bf5a81612b998b0441390e9f83d2a2f4390f639f676cb0b9b2f6760d03d2655d"
   }
  }
 },
 "nbformat": 4,
 "nbformat_minor": 2
}
